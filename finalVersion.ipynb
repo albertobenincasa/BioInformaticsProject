{
  "nbformat": 4,
  "nbformat_minor": 0,
  "metadata": {
    "colab": {
      "name": "finalVersion.ipynb",
      "provenance": [],
      "collapsed_sections": []
    },
    "kernelspec": {
      "name": "python3",
      "display_name": "Python 3"
    },
    "accelerator": "GPU"
  },
  "cells": [
    {
      "cell_type": "code",
      "metadata": {
        "id": "CRELGrL5Jf2o",
        "colab_type": "code",
        "outputId": "f017eac9-ebcb-4b52-cbb8-0a4f65bda222",
        "colab": {
          "base_uri": "https://localhost:8080/",
          "height": 119
        }
      },
      "source": [
        "!pip3 install -q http://download.pytorch.org/whl/cu90/torch-1.1.0-cp36-cp36m-linux_x86_64.whl\n",
        "!pip3 install torchvision"
      ],
      "execution_count": 59,
      "outputs": [
        {
          "output_type": "stream",
          "text": [
            "Requirement already satisfied: torchvision in /usr/local/lib/python3.6/dist-packages (0.3.0)\n",
            "Requirement already satisfied: numpy in /usr/local/lib/python3.6/dist-packages (from torchvision) (1.16.5)\n",
            "Requirement already satisfied: torch>=1.1.0 in /usr/local/lib/python3.6/dist-packages (from torchvision) (1.1.0)\n",
            "Requirement already satisfied: six in /usr/local/lib/python3.6/dist-packages (from torchvision) (1.12.0)\n",
            "Requirement already satisfied: pillow>=4.1.1 in /usr/local/lib/python3.6/dist-packages (from torchvision) (4.3.0)\n",
            "Requirement already satisfied: olefile in /usr/local/lib/python3.6/dist-packages (from pillow>=4.1.1->torchvision) (0.46)\n"
          ],
          "name": "stdout"
        }
      ]
    },
    {
      "cell_type": "code",
      "metadata": {
        "id": "wjRE92pyJjfG",
        "colab_type": "code",
        "outputId": "b8951f3a-68cc-4981-fb43-8a9dec177d8b",
        "colab": {
          "base_uri": "https://localhost:8080/",
          "height": 34
        }
      },
      "source": [
        "# %matplotlib inline\n",
        "import torch\n",
        "import torch.optim as optim\n",
        "import torch.nn as nn\n",
        "import torch.nn.functional as F\n",
        "\n",
        "import torchvision\n",
        "from torchvision import models\n",
        "import torchvision.transforms as transforms\n",
        "from torchvision.transforms import ToPILImage\n",
        "\n",
        "import matplotlib.pyplot as plt\n",
        "\n",
        "import numpy as np\n",
        "\n",
        "import random\n",
        "import datetime\n",
        "import time\n",
        "from google.colab import drive\n",
        "drive.mount('/content/gdrive',force_remount=True)\n",
        "\n",
        "import os\n",
        "import shutil"
      ],
      "execution_count": 60,
      "outputs": [
        {
          "output_type": "stream",
          "text": [
            "Mounted at /content/gdrive\n"
          ],
          "name": "stdout"
        }
      ]
    },
    {
      "cell_type": "code",
      "metadata": {
        "id": "Hbs_hh8AKiQD",
        "colab_type": "code",
        "colab": {}
      },
      "source": [
        "def Balacing(set,classes,id_classes,j): #j=indice delle classi visitate\n",
        "  \"\"\"\n",
        "  This function has the purpose of balancing the dataset before using it in CNN.\n",
        "    \n",
        "  Starting from input data, we separate two distinct classes: one of the original classes\n",
        "  extracted from the dataset that will act as a leaf (we call it 'class0'), and, excluding \n",
        "  the last step (consisting of only the two remaining classes) one \"super\" class containing \n",
        "  all the elements remaining (we call it 'class1')\n",
        "    \n",
        "  To keep the dataset balanced, we need the size of class0 to be equal to the size of class1. \n",
        "  In order to do that, we compute (based both on the size of class0 and the number of the \n",
        "  different classes in class1) the number of elements that have to be extracted from each\n",
        "  subclass of class1 and we take them after reshuffling the elements to avoid taking\n",
        "  always the same.\n",
        "  \"\"\"\n",
        "  \n",
        "  train=[]\n",
        "  leaf=[]\n",
        "  \n",
        "  p=0\n",
        "  train_dic={}\n",
        "  class1_balanced=[]\n",
        "  num_element_leaf=0\n",
        "  \n",
        "  classes_new=[]  \n",
        "  \n",
        "  for i in set: \n",
        "    \n",
        "    if i[1] > j:\n",
        "      train.append(i)     \n",
        "      \n",
        "    if i[1] == j: #salvo la foglia in dictionary\n",
        "      leaf_label_int=i[1]\n",
        "      leaf_label=str(i[1])\n",
        "      leaf_data=i[0]\n",
        "      \n",
        "      leaf.append(leaf_data)\n",
        "    \n",
        "    \n",
        "  print('leaf is ', leaf_label)   \n",
        "  \n",
        "  for i in train: #dictionary di train\n",
        "    label=i[1]\n",
        "    data=i[0]\n",
        "    label=str(label)\n",
        "    if label in train_dic:\n",
        "      train_dic[label].append(data)\n",
        "    else: \n",
        "      train_dic.update({label: []})\n",
        "      train_dic[label].append(data)\n",
        "  print(train_dic.keys())  \n",
        "  elementsFromEachClass = int(round(len(leaf)/ len(train_dic.keys())))\n",
        "  \n",
        "  for k in train_dic.keys(): #bilancio il dictionary d train\n",
        "    myClassElements = train_dic[k]\n",
        "    random.shuffle(myClassElements)\n",
        "    class1_balanced += myClassElements[:elementsFromEachClass]\n",
        "  \n",
        "  new_set_dic={}\n",
        "  new_set_dic.update({'others': []})\n",
        "  new_set_dic.update({leaf_label: []})\n",
        "  \n",
        "  \n",
        "  \n",
        "  classes_new.append('others')\n",
        "  classes_new.append(leaf_label)\n",
        "  \n",
        "  id_classes_new={'others': 0, }\n",
        "  id_classes_new.update({leaf_label: 1 })\n",
        "  \n",
        "  for i in class1_balanced:\n",
        "        new_set_dic['others'].append(i)\n",
        "  \n",
        "  len_values=len(list(new_set_dic.values()))\n",
        "\n",
        "  for i in leaf:#aggiungo il dictionary di leaf a quello che userò\n",
        "        new_set_dic[leaf_label].append(i)\n",
        "  \n",
        "\n",
        "  #i valori della leaf sono in fondo\n",
        "    \n",
        "  new_set=[]\n",
        "  count=0\n",
        "  \n",
        "  for i in list(new_set_dic.values()): #creo il nuovo vettore di vettore come nel formato che entra cambiando le labels\n",
        "    \n",
        "    if count == 0:\n",
        "      for o in i:\n",
        "        \n",
        "        valore=(o,0) #data\n",
        "        new_set.append(valore)\n",
        "    else:\n",
        "      for o in i:\n",
        "        \n",
        "        valore=(o,1) #data\n",
        "        new_set.append(valore)\n",
        "    count=count+1\n",
        "  \n",
        "  return new_set,classes_new,id_classes_new\n",
        "\n",
        "\n",
        "def takeClass(trainset_gold):\n",
        "  \"\"\"\n",
        "  This function is intended to remove a class from the previous ones.\n",
        "\n",
        "  We need such a feature because using ImageFolder the dataset is loaded in its entirety, when our goal is \n",
        "  to look at changes in accuracy when adding a new class without completely retraining the network.\n",
        "  \"\"\"\n",
        "  \n",
        "  classExtraClasses = []\n",
        "  classExtra = []\n",
        "  classExtraIndex = {}\n",
        "\n",
        "  img = trainset_gold.imgs\n",
        "  \n",
        "  length = len(img)\n",
        "  dim = len(trainset_gold.classes)\n",
        "  \n",
        "  count=0\n",
        "  for i in trainset_gold.imgs:\n",
        "    if i[1] == dim-1:\n",
        "      count=count+1\n",
        "  \n",
        "  for i in range(0,count):    \n",
        "      element = img[length - i -1]\n",
        "      img.remove(element)\n",
        "      classExtra.append(element)     \n",
        "    \n",
        "  trainset_gold.samples=trainset_gold.imgs        \n",
        "  classExtraClasses=trainset_gold.classes[dim-1]\n",
        "  trainset_gold.classes.remove(classExtraClasses)  \n",
        "    \n",
        "  keys=list(trainset_gold.class_to_idx.keys())\n",
        "  \n",
        "  classExtraIndex=trainset_gold.class_to_idx.copy()\n",
        "  \n",
        "  for i in range(0,len(keys)-1):\n",
        "    classExtraIndex.pop(keys[i])\n",
        "  \n",
        "  trainset_gold.class_to_idx.pop(keys[dim-1])\n",
        "  \n",
        "  return classExtraClasses,classExtra,classExtraIndex,trainset_gold\n",
        "\n",
        "def addClass(trainset_old, newclass_imm, newclass_idx, newclass_classes):\n",
        "  \"\"\"\n",
        "  The function mentioned above served to remove a class, this serves to add one.\n",
        "\n",
        "  Also in this case, it is important to check the balance of our class data (done similarly to the Balancing function).\n",
        "  \"\"\"\n",
        "  \n",
        "  lenClass=len(newclass_imm)\n",
        "  \n",
        "  elementsFromEachClass = int(round(lenClass/ len(trainset_old.class_to_idx.keys())))\n",
        "  \n",
        "  #create imm in dict\n",
        "  dic={}\n",
        "  for i in trainset_old.imgs:\n",
        "    if i[1] in dic.keys():\n",
        "      dic[i[1]].append(i[0])\n",
        "    else:\n",
        "      dic.update({i[1] : []})\n",
        "      dic[i[1]].append(i[0])\n",
        "      \n",
        "  class1_balanced = []\n",
        "  #bilancio il dictionary \n",
        "  for k in dic.keys(): \n",
        "    myClassElements = dic[k]\n",
        "    random.shuffle(myClassElements)\n",
        "    class1_balanced += myClassElements[:elementsFromEachClass] \n",
        "  \n",
        "  new_set_dic = {}\n",
        "  new_set_dic.update({'others': []})\n",
        "  new_set_dic.update({str(newclass_classes): []})\n",
        "  \n",
        "  for i in class1_balanced:\n",
        "        new_set_dic['others'].append(i)\n",
        "  \n",
        "  len_values = len(list(new_set_dic.values()))\n",
        "\n",
        "  for i in newclass_imm:       #aggiungo il dictionary di leaf a quello che userò\n",
        "    new_set_dic[str(newclass_classes)].append(i[0]) \n",
        "  \n",
        "  new_set=[]\n",
        "  count=0\n",
        "  \n",
        "  for i in list(new_set_dic.values()): #creo il nuovo vettore di vettore come nel formato che entra cambiando le labels\n",
        "\n",
        "    if count == 0:\n",
        "      for o in i:\n",
        "        \n",
        "        valore = (o,0) #data\n",
        "        new_set.append(valore)\n",
        "    else:\n",
        "      for o in i:\n",
        "        \n",
        "        valore = (o,1) #data\n",
        "        new_set.append(valore)\n",
        "    count = count + 1\n",
        "  \n",
        " #classes\n",
        "  classes = []\n",
        "  classes.append('others')\n",
        "  classes.append(str(newclass_classes))\n",
        "  \n",
        " #index\n",
        "  newdic = {}\n",
        "  newdic.update({'others': 0})\n",
        "  key = list(newclass_idx.keys())[0]\n",
        "  newdic.update({key: 1})\n",
        "  \n",
        "  return new_set, classes, newdic\n",
        "  "
      ],
      "execution_count": 0,
      "outputs": []
    },
    {
      "cell_type": "code",
      "metadata": {
        "id": "PufBsdwWEl9P",
        "colab_type": "code",
        "colab": {}
      },
      "source": [
        "def test_accuracy(tree, dataloader, labels):\n",
        "    ########TESTING PHASE###########\n",
        "  \n",
        "   #leaves=[6,9,4,1,2,7,8,3,5,0]\n",
        "    #leaves=[0,1,2,3]\n",
        "    leaves = labels\n",
        "    correct = 0\n",
        "    total = 0\n",
        "    net.eval() #important for deactivating dropout and correctly use batchnorm accumulated statistics\n",
        "    with torch.no_grad():\n",
        "        for data in dataloader:\n",
        "            images, labels = data\n",
        "            \n",
        "            if labels == 4:\n",
        "              continue\n",
        "            \n",
        "            images = images.cuda()   \n",
        "            for i in range(0,4-1):#TotalClass-1):\n",
        "                \n",
        "                labels_renamed=labels #cosÃƒÂ¬ non perdo l'informazione\n",
        "                if labels_renamed == leaves[i]:\n",
        "                    labels_renamed = torch.tensor(1)\n",
        "\n",
        "                else:\n",
        "                    labels_renamed = torch.tensor(0)\n",
        "                    \n",
        "\n",
        "                labels_renamed = labels_renamed.cuda()  \n",
        "                outputs =tree[i](images)  \n",
        "\n",
        "                _, predicted = torch.max(outputs.data, 1)\n",
        "                \n",
        "                if predicted == 1:\n",
        "                    class_predicted=leaves[i]\n",
        "                    if class_predicted == labels:\n",
        "                       correct=correct + 1\n",
        "          \n",
        "                    break\n",
        "                else:\n",
        "                  class_predicted=leaves[i+1]\n",
        "\n",
        "            total += labels.size(0)\n",
        "                #correct += (predicted == labels).sum().item()\n",
        "    accuracy = 100 * correct / total\n",
        "    print('Accuracy of the network on the test set: %d %%' % (accuracy))\n",
        "    return accuracy"
      ],
      "execution_count": 0,
      "outputs": []
    },
    {
      "cell_type": "code",
      "metadata": {
        "id": "1cwpFIVjKEia",
        "colab_type": "code",
        "colab": {}
      },
      "source": [
        "n_classes = 2           \n",
        "#function to define the convolutional network\n",
        "class CNN(nn.Module):\n",
        "  def __init__(self):\n",
        "        super(CNN, self).__init__()\n",
        "        #conv2d first parameter is the number of kernels at input (you get it from the output value of the previous layer)\n",
        "        #conv2d second parameter is the number of kernels you wanna have in your convolution, so it will be the n. of kernels at output.\n",
        "        #conv2d third, fourth and fifth parameters are, as you can read, kernel_size, stride and zero padding :)\n",
        "        self.conv1 = nn.Conv2d(3, 32, kernel_size=5, stride=2, padding=0)\n",
        "        self.conv2 = nn.Conv2d(32, 32, kernel_size=3, stride=1, padding=0)\n",
        "        self.conv3 = nn.Conv2d(32, 32, kernel_size=3, stride=1, padding=0)\n",
        "        self.pool = nn.MaxPool2d(kernel_size=2, stride=2, padding=0)\n",
        "        self.conv_final = nn.Conv2d(32, 64, kernel_size=3, stride=1, padding=0)\n",
        "        self.fc1 = nn.Linear(64 * 4 * 4, 4096)\n",
        "        self.fc2 = nn.Linear(4096, n_classes) #last FC for classification \n",
        "\n",
        "  def forward(self, x):\n",
        "        x = F.relu(self.conv1(x))\n",
        "        x = F.relu(self.conv2(x))\n",
        "        x = F.relu(self.conv3(x))\n",
        "        x = F.relu(self.pool(self.conv_final(x)))\n",
        "        x = x.view(x.shape[0], -1)\n",
        "        x = F.relu(self.fc1(x))\n",
        "        # we can insert a dropout here\n",
        "        x = self.fc2(x)\n",
        "        return x\n",
        "      \n",
        "#transform are heavily used to do simple and complex transformation and data augmentation\n",
        "transform_train = transforms.Compose(\n",
        "    [\n",
        "     #transforms.RandomHorizontalFlip(),\n",
        "     transforms.Resize((32,32)),\n",
        "     transforms.ToTensor(),\n",
        "     transforms.Normalize((0.5, 0.5, 0.5), (0.5, 0.5, 0.5)),\n",
        "    ])\n",
        "\n",
        "transform_test = transforms.Compose(\n",
        "    [\n",
        "     transforms.Resize((32,32)),\n",
        "     transforms.ToTensor(),\n",
        "     transforms.Normalize((0.5, 0.5, 0.5), (0.5, 0.5, 0.5)),\n",
        "     ])\n",
        "\n",
        "tree = [] #vector of nets\n",
        "data_root = \"gdrive/My Drive/bioinf_ds/\"\n",
        "test_root = \"gdrive/My Drive/bioinf_ds_test/\"\n",
        "\n",
        "trainset = torchvision.datasets.ImageFolder(data_root, transform=transform_train, is_valid_file=None)\n",
        "trainset_gold = torchvision.datasets.ImageFolder(data_root, transform=transform_train, is_valid_file=None)\n",
        "\n",
        "classExtraClasses,classExtra,classExtraIndex,trainset_gold = takeClass(trainset_gold) #modifico gold\n",
        "\n",
        "labelsArray = list(trainset_gold.class_to_idx.values())\n",
        "\n",
        "testset = torchvision.datasets.ImageFolder(test_root, transform=transform_test, is_valid_file=None)\n",
        "testloader = torch.utils.data.DataLoader(testset, batch_size=1,\n",
        "                                            shuffle=True, num_workers=4,drop_last=True)"
      ],
      "execution_count": 0,
      "outputs": []
    },
    {
      "cell_type": "code",
      "metadata": {
        "id": "jaEb2-xeKUx5",
        "colab_type": "code",
        "colab": {
          "base_uri": "https://localhost:8080/",
          "height": 34
        },
        "outputId": "e494bcde-f326-4609-ea4a-2e3e155a56a0"
      },
      "source": [
        "list(trainset_gold.class_to_idx.values())"
      ],
      "execution_count": 64,
      "outputs": [
        {
          "output_type": "execute_result",
          "data": {
            "text/plain": [
              "[0, 1, 2, 3]"
            ]
          },
          "metadata": {
            "tags": []
          },
          "execution_count": 64
        }
      ]
    },
    {
      "cell_type": "code",
      "metadata": {
        "id": "4LQl2VeSKjeQ",
        "colab_type": "code",
        "outputId": "1cecd914-8cbf-431c-cb1f-4ddf4972b6ac",
        "colab": {
          "base_uri": "https://localhost:8080/",
          "height": 1000
        }
      },
      "source": [
        "for j in range(0, 4-1):# totalClasses-1):\n",
        "  \n",
        "  trainset.imgs,trainset.classes,trainset.class_to_idx = Balacing(trainset_gold.imgs,trainset_gold.classes,trainset_gold.class_to_idx ,j) \n",
        "  \n",
        "  trainset.samples = trainset.imgs\n",
        "  \n",
        "  trainloader = torch.utils.data.DataLoader(trainset, batch_size=256,\n",
        "                                            shuffle=True, num_workers=4,drop_last=True)\n",
        "\n",
        "  dataiter = iter(trainloader)\n",
        "\n",
        "  net = CNN()\n",
        "\n",
        "  net = net.cuda()\n",
        "\n",
        "  criterion = nn.CrossEntropyLoss().cuda() #it already does softmax computation for use!\n",
        "  optimizer = optim.Adam(net.parameters(), lr=0.0001) #better convergency w.r.t simple SGD :)\n",
        "\n",
        "  ########TRAINING PHASE###########\n",
        "  n_loss_print = len(trainloader) \n",
        "  \n",
        "  loss_values = []\n",
        "  n_epochs = 5\n",
        "  \n",
        "  for epoch in range(n_epochs):  # loop over the dataset multiple times\n",
        "    net.train() #important for activating dropout and correctly train batchnorm\n",
        "    running_loss = 0.0\n",
        "    for i, data in enumerate(trainloader, 0):\n",
        "      # get the inputs and cast them into cuda wrapper\n",
        "           \n",
        "      inputs, labels = data\n",
        "      inputs = inputs.cuda()\n",
        "      labels = labels.cuda()\n",
        "            \n",
        "      # zero the parameter gradients\n",
        "      optimizer.zero_grad()\n",
        "\n",
        "      # forward + backward + optimize\n",
        "      outputs = net(inputs)\n",
        "      loss = criterion(outputs, labels)\n",
        "      loss.backward()\n",
        "      optimizer.step()\n",
        "\n",
        "      # print statistics\n",
        "      running_loss += loss.item()\n",
        "      if i % n_loss_print == (n_loss_print -1):    \n",
        "        print('[%d, %5d] loss: %.3f' %(epoch + 1, i + 1, running_loss / n_loss_print))\n",
        "        loss_values.append(running_loss / n_loss_print)\n",
        "        running_loss = 0.0\n",
        "          \n",
        "  tree.append(net)\n",
        "  epoch_values = np.arange(0, n_epochs, step = 1)\n",
        "   \n",
        "  print(j,\" graph\")\n",
        "  plt.title('Loss function, filter=64')\n",
        "  plt.plot(loss_values, marker = 'o', color = 'red')\n",
        "  plt.xlabel('Epoch')\n",
        "  plt.ylabel('Loss')\n",
        "  plt.xticks(epoch_values)\n",
        "\n",
        "  plt.show()\n",
        "  \n",
        "test_accuracy(tree, testloader, labelsArray)"
      ],
      "execution_count": 65,
      "outputs": [
        {
          "output_type": "stream",
          "text": [
            "leaf is  0\n",
            "dict_keys(['1', '2', '3'])\n",
            "[1,    17] loss: 0.689\n",
            "[2,    17] loss: 0.658\n",
            "[3,    17] loss: 0.576\n",
            "[4,    17] loss: 0.524\n",
            "[5,    17] loss: 0.493\n",
            "0  graph\n"
          ],
          "name": "stdout"
        },
        {
          "output_type": "display_data",
          "data": {
            "image/png": "[encoded data removed]",
            "text/plain": [
              "<Figure size 432x288 with 1 Axes>"
            ]
          },
          "metadata": {
            "tags": []
          }
        },
        {
          "output_type": "stream",
          "text": [
            "leaf is  1\n",
            "dict_keys(['2', '3'])\n",
            "[1,    10] loss: 0.691\n",
            "[2,    10] loss: 0.678\n",
            "[3,    10] loss: 0.648\n",
            "[4,    10] loss: 0.596\n",
            "[5,    10] loss: 0.542\n",
            "1  graph\n"
          ],
          "name": "stdout"
        },
        {
          "output_type": "display_data",
          "data": {
            "image/png": "[encoded data removed]",
            "text/plain": [
              "<Figure size 432x288 with 1 Axes>"
            ]
          },
          "metadata": {
            "tags": []
          }
        },
        {
          "output_type": "stream",
          "text": [
            "leaf is  2\n",
            "dict_keys(['3'])\n",
            "[1,    23] loss: 0.636\n",
            "[2,    23] loss: 0.568\n",
            "[3,    23] loss: 0.286\n",
            "[4,    23] loss: 0.138\n",
            "[5,    23] loss: 0.122\n",
            "2  graph\n"
          ],
          "name": "stdout"
        },
        {
          "output_type": "display_data",
          "data": {
            "image/png": "[encoded data removed]",
            "text/plain": [
              "<Figure size 432x288 with 1 Axes>"
            ]
          },
          "metadata": {
            "tags": []
          }
        },
        {
          "output_type": "stream",
          "text": [
            "Accuracy of the network on the test set: 44 %\n"
          ],
          "name": "stdout"
        },
        {
          "output_type": "execute_result",
          "data": {
            "text/plain": [
              "44.586776859504134"
            ]
          },
          "metadata": {
            "tags": []
          },
          "execution_count": 65
        }
      ]
    },
    {
      "cell_type": "code",
      "metadata": {
        "id": "bs5ropA99nmx",
        "colab_type": "code",
        "outputId": "7fdf9d2b-4589-49d3-eeb0-f502abd11c49",
        "colab": {
          "base_uri": "https://localhost:8080/",
          "height": 448
        }
      },
      "source": [
        "trainset.imgs,trainset.classes, trainset.class_to_idx = addClass(trainset_gold,classExtra,classExtraIndex,classExtraClasses)\n",
        "\n",
        "trainset.samples = trainset.imgs\n",
        "\n",
        "labelsArray.insert(0, classExtraIndex[classExtraClasses])\n",
        "\n",
        "trainloader = torch.utils.data.DataLoader(trainset, batch_size=256, shuffle=True, num_workers=4,drop_last=True)\n",
        "dataiter = iter(trainloader)\n",
        "\n",
        "net = CNN()\n",
        "\n",
        "net = net.cuda()\n",
        "criterion = nn.CrossEntropyLoss().cuda() #it already does softmax computation for use!\n",
        "optimizer = optim.Adam(net.parameters(), lr=0.0001) #better convergency w.r.t simple SGD :)\n",
        "  ########TRAINING PHASE###########\n",
        "n_loss_print = len(trainloader) \n",
        "\n",
        "loss_values = []\n",
        "n_epochs = 5\n",
        "for epoch in range(n_epochs):  # loop over the dataset multiple times\n",
        "      net.train() #important for activating dropout and correctly train batchnorm\n",
        "      running_loss = 0.0\n",
        "      for i, data in enumerate(trainloader, 0):\n",
        "        # get the inputs and cast them into cuda wrapper \n",
        "        inputs, labels = data\n",
        "        inputs = inputs.cuda()\n",
        "        labels = labels.cuda()\n",
        "        \n",
        "        # zero the parameter gradients\n",
        "        optimizer.zero_grad()\n",
        "        # forward + backward + optimize\n",
        "        outputs = net(inputs)\n",
        "        loss = criterion(outputs, labels)\n",
        "        loss.backward()\n",
        "        optimizer.step()\n",
        "        # print statistics\n",
        "        running_loss += loss.item()\n",
        "        if i % n_loss_print == (n_loss_print -1):    \n",
        "          print('[%d, %5d] loss: %.3f' %(epoch + 1, i + 1, running_loss / n_loss_print))\n",
        "          loss_values.append(running_loss / n_loss_print)\n",
        "          running_loss = 0.0\n",
        "      \n",
        "tree.insert(0,net)\n",
        "\n",
        "epoch_values = np.arange(0, n_epochs, step = 1)\n",
        " \n",
        "print(j,\" graph\")\n",
        "plt.title('Loss function, filter=64')\n",
        "plt.plot(loss_values, marker = 'o', color = 'red')\n",
        "plt.xlabel('Epoch')\n",
        "plt.ylabel('Loss')\n",
        "plt.xticks(epoch_values)\n",
        "plt.show()\n",
        "print(len(tree))\n",
        "test_accuracy(tree, testloader, labelsArray)\n"
      ],
      "execution_count": 67,
      "outputs": [
        {
          "output_type": "stream",
          "text": [
            "[1,    10] loss: 0.688\n",
            "[2,    10] loss: 0.661\n",
            "[3,    10] loss: 0.610\n",
            "[4,    10] loss: 0.586\n",
            "[5,    10] loss: 0.556\n",
            "2  graph\n"
          ],
          "name": "stdout"
        },
        {
          "output_type": "display_data",
          "data": {
            "image/png": "[encoded data removed]",
            "text/plain": [
              "<Figure size 432x288 with 1 Axes>"
            ]
          },
          "metadata": {
            "tags": []
          }
        },
        {
          "output_type": "stream",
          "text": [
            "4\n",
            "Accuracy of the network on the test set: 28 %\n"
          ],
          "name": "stdout"
        },
        {
          "output_type": "execute_result",
          "data": {
            "text/plain": [
              "28.05785123966942"
            ]
          },
          "metadata": {
            "tags": []
          },
          "execution_count": 67
        }
      ]
    }
  ]
}